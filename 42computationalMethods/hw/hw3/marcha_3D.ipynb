{
 "metadata": {
  "name": "",
  "signature": "sha256:86a603f0b9974137ad9bd39597094cc2ee2c1bab77e387dabe2ee64eb5edffbd"
 },
 "nbformat": 3,
 "nbformat_minor": 0,
 "worksheets": [
  {
   "cells": [
    {
     "cell_type": "markdown",
     "metadata": {},
     "source": [
      "# Computational Methods - Homework 3.2\n",
      "### Luis Alberto Guti\u00e9rrez L\u00f3pez*\n",
      "#### Universidad de los Andes - Department of Physics\n",
      "*la.gutierrez1280@uniandes.edu.co\n",
      "\n",
      "##1. Introduction\n",
      "\n",
      "In the next notebook we are going to write the code for the random walk done using C on the previous homework now using Python"
     ]
    },
    {
     "cell_type": "code",
     "collapsed": false,
     "input": [
      "%pylab inline"
     ],
     "language": "python",
     "metadata": {},
     "outputs": [
      {
       "output_type": "stream",
       "stream": "stdout",
       "text": [
        "Populating the interactive namespace from numpy and matplotlib\n"
       ]
      }
     ],
     "prompt_number": 1
    },
    {
     "cell_type": "code",
     "collapsed": false,
     "input": [
      "def make_complete_walks(M):\n",
      "    \n",
      "    m = int(M)\n",
      "    N = zeros(50)\n",
      "    for i in range(m):\n",
      "        \n",
      "        n_threshold = 0\n",
      "        threshold = (n_threshold+1)*10\n",
      "        x = 0.0\n",
      "        y = 0.0\n",
      "        z = 0.0\n",
      "        D = 0.0\n",
      "        n = 0\n",
      "        \n",
      "        while(True):\n",
      "            \n",
      "            phi = 2.0*pi*random.random()\n",
      "            cos_theta = 2.0*random.random()-1.0\n",
      "            theta = arccos(cos_theta)\n",
      "            \n",
      "            dx = sin(theta)*cos(phi)\n",
      "            dy = sin(theta)*sin(phi)\n",
      "            dz = cos(theta)\n",
      "            \n",
      "            x = x+dx\n",
      "            y = y+dy\n",
      "            z = z+dz\n",
      "        \n",
      "            D = sqrt(x**2 + y**2 + z**2)\n",
      "            n = n+1\n",
      "            \n",
      "            if(D>=threshold):\n",
      "                \n",
      "                temp = N[n_threshold]\n",
      "                N[n_threshold] = temp + n*1.0/(m*1.0)\n",
      "                n_threshold = n_threshold + 1\n",
      "                threshold = (n_threshold+1)*10\n",
      "                \n",
      "            if(threshold > 500):\n",
      "                break\n",
      "    \n",
      "    return N\n"
     ],
     "language": "python",
     "metadata": {},
     "outputs": [],
     "prompt_number": 2
    },
    {
     "cell_type": "code",
     "collapsed": false,
     "input": [
      "M = raw_input(\"Number of walks: \")"
     ],
     "language": "python",
     "metadata": {},
     "outputs": [
      {
       "name": "stdout",
       "output_type": "stream",
       "stream": "stdout",
       "text": [
        "Number of walks: 1\n"
       ]
      }
     ],
     "prompt_number": 3
    },
    {
     "cell_type": "code",
     "collapsed": false,
     "input": [
      "D = linspace(10,500,50)\n",
      "N = make_complete_walks(M)\n",
      "filename = \"final_stats_3D_\" + M + \".dat\"\n",
      "savetxt(filename, column_stack((D,N)), fmt = '%f')\n",
      "figure(figsize(10,5))\n",
      "xlabel(r'$D$', fontsize=20)\n",
      "ylabel(r'$N (D)$', fontsize=20)\n",
      "scatter(D, N, s=10)"
     ],
     "language": "python",
     "metadata": {},
     "outputs": [
      {
       "metadata": {},
       "output_type": "pyout",
       "prompt_number": 4,
       "text": [
        "<matplotlib.collections.PathCollection at 0x7f94d5881750>"
       ]
      },
      {
       "metadata": {},
       "output_type": "display_data",
       "png": "[encoded data removed]",
       "text": [
        "<matplotlib.figure.Figure at 0x7f94d59cccd0>"
       ]
      }
     ],
     "prompt_number": 4
    }
   ],
   "metadata": {}
  }
 ]
}