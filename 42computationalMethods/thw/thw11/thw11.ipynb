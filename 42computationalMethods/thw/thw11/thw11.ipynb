{
 "metadata": {
  "name": "",
  "signature": "sha256:9b5c9dc1040c01a7bbe8c9f24cdff2f13e483a5ce50e030a35057420b7b820b8"
 },
 "nbformat": 3,
 "nbformat_minor": 0,
 "worksheets": [
  {
   "cells": [
    {
     "cell_type": "code",
     "collapsed": false,
     "input": [
      "%pylab inline"
     ],
     "language": "python",
     "metadata": {},
     "outputs": [
      {
       "output_type": "stream",
       "stream": "stdout",
       "text": [
        "Populating the interactive namespace from numpy and matplotlib\n"
       ]
      }
     ],
     "prompt_number": 1
    },
    {
     "cell_type": "markdown",
     "metadata": {},
     "source": [
      "Asumamos una superficie cuadrada de $10$ $m$ por $10$ $m$"
     ]
    },
    {
     "cell_type": "code",
     "collapsed": false,
     "input": [
      "d = 10\n",
      "N_drops = 100000\n",
      "pos_drops = d*np.random.random((N_drops,2))\n",
      "\n",
      "a = 0.1\n",
      "P = 1000"
     ],
     "language": "python",
     "metadata": {},
     "outputs": [],
     "prompt_number": 2
    },
    {
     "cell_type": "code",
     "collapsed": false,
     "input": [
      "#Si se vuela por la derecha y por abajo\n",
      "def count_1(sup_izq_x, sup_izq_y, a):\n",
      "    \n",
      "    count = 0\n",
      "    \n",
      "    for i in range(N_drops):\n",
      "        \n",
      "        drop_x = pos_drops[i,0]\n",
      "        drop_y = pos_drops[i,1]\n",
      "        \n",
      "        if( ((drop_x >= sup_izq_x) or (drop_x <= sup_izq_x + a - d)) and ((drop_y >= sup_izq_y) or (drop_y <= sup_izq_y + a - d)) ):\n",
      "            \n",
      "            count += 1\n",
      "    if count == 0:\n",
      "        print(\"count_1\" + str(count)) \n",
      "    return count    "
     ],
     "language": "python",
     "metadata": {},
     "outputs": [],
     "prompt_number": 3
    },
    {
     "cell_type": "code",
     "collapsed": false,
     "input": [
      "#Si se vuela por la derecha y NO por abajo\n",
      "def count_2(sup_izq_x, sup_izq_y, a):\n",
      "    \n",
      "    count = 0\n",
      "    \n",
      "    for i in range(N_drops):\n",
      "        \n",
      "        drop_x = pos_drops[i,0]\n",
      "        drop_y = pos_drops[i,1]\n",
      "        \n",
      "        if( ((drop_x >= sup_izq_x) or (drop_x <= sup_izq_x + a - d)) and (drop_y >= sup_izq_y) and (drop_y <= sup_izq_y + a) ):\n",
      "            \n",
      "            count += 1\n",
      "    if count == 0:\n",
      "        print(\"count_2\" + str(count))         \n",
      "    return count    "
     ],
     "language": "python",
     "metadata": {},
     "outputs": [],
     "prompt_number": 4
    },
    {
     "cell_type": "code",
     "collapsed": false,
     "input": [
      "#Si NO se vuela por la derecha y SI por abajo\n",
      "def count_3(sup_izq_x, sup_izq_y, a):\n",
      "    \n",
      "    count = 0\n",
      "    \n",
      "    for i in range(N_drops):\n",
      "        \n",
      "        drop_x = pos_drops[i,0]\n",
      "        drop_y = pos_drops[i,1]\n",
      "        \n",
      "        if ((drop_x >= sup_izq_x) and (drop_x <= sup_izq_x + a) and ((drop_y >= sup_izq_y) or (drop_y <= sup_izq_y + a - d))):\n",
      "            \n",
      "            count += 1\n",
      "    if count == 0:\n",
      "        print(\"count_3\" + str(count))         \n",
      "    return count"
     ],
     "language": "python",
     "metadata": {},
     "outputs": [],
     "prompt_number": 5
    },
    {
     "cell_type": "code",
     "collapsed": false,
     "input": [
      "#Si no se vuela por ninguna\n",
      "def count_4(sup_izq_x, sup_izq_y, a):\n",
      "    \n",
      "    count = 0\n",
      "    \n",
      "    for i in range(N_drops):\n",
      "        \n",
      "        drop_x = pos_drops[i,0]\n",
      "        drop_y = pos_drops[i,1]\n",
      "        \n",
      "        if( (drop_x >= sup_izq_x) and (drop_x <= sup_izq_x + a) and (drop_y >= sup_izq_y) and (drop_y <= sup_izq_y + a) ):\n",
      "            \n",
      "            count += 1\n",
      "            \n",
      "    if count == 0:\n",
      "        print(\"count_4\" + str(count))         \n",
      "    return count    "
     ],
     "language": "python",
     "metadata": {},
     "outputs": [],
     "prompt_number": 6
    },
    {
     "cell_type": "code",
     "collapsed": false,
     "input": [
      "def N_inside(a,P):\n",
      "    \n",
      "    N = []\n",
      "    \n",
      "    for i in range(P):\n",
      "        \n",
      "        sup_izq_x = 10.*np.random.random()\n",
      "        sup_izq_y = 10.*np.random.random()\n",
      "        \n",
      "        sup_der_x = sup_izq_x + a #Aqui se puede volar por el lado derecho\n",
      "\n",
      "        inf_izq_y = sup_izq_y + a #Aqui se puede volar por abajo\n",
      "        \n",
      "        \n",
      "        #Si se vuela por la derecha y por abajo\n",
      "        if(sup_der_x > 10 and inf_izq_y > 10):\n",
      "            N.append(count_1(sup_izq_x, sup_izq_y, a))\n",
      "        #Si se vuela por la derecha y NO por abajo\n",
      "        elif(sup_der_x > 10 and inf_izq_y <= 10 ):\n",
      "            N.append(count_2(sup_izq_x, sup_izq_y, a))\n",
      "        #Si NO se vuela por la derecha y SI por abajo\n",
      "        elif(sup_der_x <= 10 and inf_izq_y > 10):\n",
      "            N.append(count_3(sup_izq_x, sup_izq_y, a))\n",
      "        #Si no se vuela por ninguna\n",
      "        else:\n",
      "            N.append(count_4(sup_izq_x, sup_izq_y, a))\n",
      "            \n",
      "    return N"
     ],
     "language": "python",
     "metadata": {},
     "outputs": [],
     "prompt_number": 7
    },
    {
     "cell_type": "code",
     "collapsed": false,
     "input": [
      "N = N_inside(a,P)"
     ],
     "language": "python",
     "metadata": {},
     "outputs": [],
     "prompt_number": 8
    },
    {
     "cell_type": "code",
     "collapsed": false,
     "input": [
      "y, bin_edges, pat = hist(N, bins = 20)\n",
      "xlabel(\"Number of drops\", fontsize = 15)\n",
      "ylabel(\"Frequency\", fontsize = 15)"
     ],
     "language": "python",
     "metadata": {},
     "outputs": [
      {
       "metadata": {},
       "output_type": "pyout",
       "prompt_number": 50,
       "text": [
        "<matplotlib.text.Text at 0x7ff859a0ff10>"
       ]
      },
      {
       "metadata": {},
       "output_type": "display_data",
       "png": "[encoded data removed]",
       "text": [
        "<matplotlib.figure.Figure at 0x7ff859c732d0>"
       ]
      }
     ],
     "prompt_number": 50
    },
    {
     "cell_type": "code",
     "collapsed": false,
     "input": [
      "from scipy.optimize import curve_fit\n",
      "from scipy.misc import factorial\n",
      "from scipy.stats import *\n",
      "\n",
      "x = 0.5 * (bin_edges[1:] + bin_edges[:-1])\n",
      "\n",
      "def f(k, l):\n",
      "    return exp(-l)*l**k/factorial(k)\n",
      "\n",
      "fitpars, covmat = curve_fit(f,x,y)"
     ],
     "language": "python",
     "metadata": {},
     "outputs": [],
     "prompt_number": 47
    },
    {
     "cell_type": "code",
     "collapsed": false,
     "input": [
      "x_ = linspace(0,25,100)\n",
      "hist(N, bins = 20, normed = True)\n",
      "xlabel(\"Number of drops\", fontsize = 15)\n",
      "ylabel(\"Frequency\", fontsize = 15)\n",
      "plot(aaa, f(x_, fitpars[0]), color = 'r')\n",
      "xlim(0,25)\n",
      "print \"Lambda = \" + str(fitpars[0])"
     ],
     "language": "python",
     "metadata": {},
     "outputs": [
      {
       "output_type": "stream",
       "stream": "stdout",
       "text": [
        "Lambda = 9.61061617228\n"
       ]
      },
      {
       "metadata": {},
       "output_type": "display_data",
       "png": "[encoded data removed]",
       "text": [
        "<matplotlib.figure.Figure at 0x7ff84ee4fc90>"
       ]
      }
     ],
     "prompt_number": 52
    }
   ],
   "metadata": {}
  }
 ]
}