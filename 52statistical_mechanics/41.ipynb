{
 "metadata": {
  "name": ""
 },
 "nbformat": 3,
 "nbformat_minor": 0,
 "worksheets": [
  {
   "cells": [
    {
     "cell_type": "code",
     "collapsed": false,
     "input": [
      "%pylab inline\n",
      "from scipy.stats import mode"
     ],
     "language": "python",
     "metadata": {},
     "outputs": [
      {
       "output_type": "stream",
       "stream": "stdout",
       "text": [
        "Populating the interactive namespace from numpy and matplotlib\n"
       ]
      }
     ],
     "prompt_number": 1
    },
    {
     "cell_type": "markdown",
     "metadata": {},
     "source": [
      "#1 Simulaciones de Monte Carlo\n",
      "\n",
      "**a.** Sus fondos iniciales son 100, apuesta de a 1, y en cada ronda gana 36 con probabilidad 1/37, y pierde 1 con probabilidad 36/37. Despu\u00e9s de 100 rondas, cual es la distribuci\u00f3n emp\u00edrica de fondos n? Cu\u00e1l es su media? Cu\u00e1l es el tiempo promedio para que la mitad de los jugadores (si fueran muchos) llegaran a 0?"
     ]
    },
    {
     "cell_type": "code",
     "collapsed": false,
     "input": [
      "'''\n",
      "Define una ronda, retorna la ganancia o perdida segun las probabilidades dadas\n",
      "'''\n",
      "def rondaa():\n",
      "    r = randint(1,38)\n",
      "    if r == 1:\n",
      "        return 36\n",
      "    else:\n",
      "        return -1\n",
      "    \n",
      "'''\n",
      "Ejecuta un juego con n_0 fondos iniciales y N rondas\n",
      "'''\n",
      "def juegoa(n_0, N):\n",
      "    n = n_0\n",
      "    for i in range(N):\n",
      "        n += rondaa()\n",
      "        if(n==0):\n",
      "            break\n",
      "    return n\n",
      "\n",
      "'''\n",
      "Ejecuta M juegos y guarda cada resultado en la entrada de un array\n",
      "'''\n",
      "def many_gamesa(M):\n",
      "    n_array = np.zeros(M)\n",
      "    for i in range(M):\n",
      "        n_array[i] = juegoa(100,100)\n",
      "    return n_array\n",
      "\n",
      "'''\n",
      "Retorna arreglos de dinero final y la frecuencia con la que se repite\n",
      "'''\n",
      "\n",
      "def frequencies(Array):\n",
      "    B = []\n",
      "    C = []\n",
      "    for el in Array:\n",
      "        if el not in B:\n",
      "            B.append(el)\n",
      "            C.append(1)\n",
      "        elif el in B:\n",
      "            C[B.index(el)]+=1\n",
      "    return B, C"
     ],
     "language": "python",
     "metadata": {},
     "outputs": [],
     "prompt_number": 2
    },
    {
     "cell_type": "markdown",
     "metadata": {},
     "source": [
      "Se corren 100.000 juegos, cada uno con 100 rondas, las siguientes graficas muestra la distribucion para el dinero final."
     ]
    },
    {
     "cell_type": "code",
     "collapsed": false,
     "input": [
      "A = many_gamesa(100000)\n",
      "A1,A2 = frequencies(A)"
     ],
     "language": "python",
     "metadata": {},
     "outputs": [],
     "prompt_number": 3
    },
    {
     "cell_type": "code",
     "collapsed": false,
     "input": [
      "#plt.title('Distribuci\u00f3n', fontsize = '15')\n",
      "plt.xlabel('Dinero Final')\n",
      "plt.ylabel('Frecuencia')\n",
      "plt.hist(A,len(A1))\n",
      "plt.show()"
     ],
     "language": "python",
     "metadata": {},
     "outputs": [
      {
       "metadata": {},
       "output_type": "display_data",
       "png": "[encoded data removed]",
       "text": [
        "<matplotlib.figure.Figure at 0x7f65bd4bf810>"
       ]
      }
     ],
     "prompt_number": 4
    },
    {
     "cell_type": "markdown",
     "metadata": {},
     "source": [
      "A continuacion se muestra el promedio, la moda y la desviaci\u00f3n est\u00e1ndar obtenidas.\n",
      "\n",
      "Nota: La funci\u00f3n usada para la moda retorna el menor valor que m\u00e1s se repita."
     ]
    },
    {
     "cell_type": "code",
     "collapsed": false,
     "input": [
      "print \"Promedio \" + str(average(A))\n",
      "print \"Moda \" + str(mode(A)[0][0])\n",
      "print \"STD \" + str(std(A))"
     ],
     "language": "python",
     "metadata": {},
     "outputs": [
      {
       "output_type": "stream",
       "stream": "stdout",
       "text": [
        "Promedio 99.50965\n",
        "Moda 74.0\n",
        "STD 59.7353363335\n"
       ]
      }
     ],
     "prompt_number": 6
    },
    {
     "cell_type": "markdown",
     "metadata": {},
     "source": [
      "Ahora se quiere ver, para un numero fijo de jugadores, cuantas rondas deben jugar para que la mitad se quiebren"
     ]
    },
    {
     "cell_type": "code",
     "collapsed": false,
     "input": [
      "'''\n",
      "Esta funcion recibe el array Players y retorna True si la mitad o mas tienen dinero 0, False de lo contrario\n",
      "'''\n",
      "def half_broken(Players):\n",
      "    count = 0\n",
      "    for el in Players:\n",
      "        if el<=0:\n",
      "            count+=1\n",
      "    \n",
      "    if count >= len(Players)/2.0:\n",
      "        ans = True\n",
      "    else:\n",
      "        ans = False\n",
      "        \n",
      "    return ans\n",
      "\n",
      "'''\n",
      "Corre rondas para n_players jugadores con initial dinero inicial hasta que la mitad se quiebre. Retorna el no. de rondas jugadas\n",
      "'''\n",
      "def run_players(n_players, initial):\n",
      "    \n",
      "    Players = initial*np.ones(n_players)\n",
      "    \n",
      "    n_rounds = 0\n",
      "    #print(\"round: 0\")\n",
      "    #print(Players)\n",
      "    while(not half_broken(Players)):\n",
      "        \n",
      "        for i in range(len(Players)):\n",
      "            \n",
      "            if Players[i] > 0:\n",
      "                \n",
      "                Players[i] += rondaa()\n",
      "        \n",
      "        n_rounds+=1\n",
      "        #print(\"round: \"+ str(n_rounds))\n",
      "        #print(Players)\n",
      "        \n",
      "    return n_rounds"
     ],
     "language": "python",
     "metadata": {},
     "outputs": [],
     "prompt_number": 7
    },
    {
     "cell_type": "code",
     "collapsed": false,
     "input": [
      "initial = 100\n",
      "n_players = 100 #(number of players)\n",
      "Players = initial*np.ones(n_players)\n",
      "n_repetitions = 100\n",
      "\n",
      "Final = np.zeros(n_repetitions)\n",
      "\n",
      "for i in range(n_repetitions):\n",
      "    \n",
      "    Final[i] = run_players(n_players, initial)"
     ],
     "language": "python",
     "metadata": {},
     "outputs": [],
     "prompt_number": 29
    },
    {
     "cell_type": "code",
     "collapsed": false,
     "input": [
      "F1,F2 = frequencies(Final)"
     ],
     "language": "python",
     "metadata": {},
     "outputs": [],
     "prompt_number": 30
    },
    {
     "cell_type": "markdown",
     "metadata": {},
     "source": [
      "Se corren 100 jugadores, cada uno con 100 de fondos iniciales. La siguiente grafica muestra la distribucion de los tiempos para los cuales la mitad de los jugadores se han quebrado."
     ]
    },
    {
     "cell_type": "code",
     "collapsed": false,
     "input": [
      "#plt.title('Distribuci\u00f3n', fontsize = '15')\n",
      "plt.xlabel('Tiempo (No. de rondas)')\n",
      "plt.ylabel('Frecuencia')\n",
      "plt.hist(Final,len(F1))\n",
      "plt.show()"
     ],
     "language": "python",
     "metadata": {},
     "outputs": [
      {
       "metadata": {},
       "output_type": "display_data",
       "png": "[encoded data removed]",
       "text": [
        "<matplotlib.figure.Figure at 0x7f65bc9be490>"
       ]
      }
     ],
     "prompt_number": 31
    },
    {
     "cell_type": "markdown",
     "metadata": {},
     "source": [
      "A continuacion se muestra el promedio, la moda y la desviaci\u00f3n est\u00e1ndar obtenidas para los tiempos."
     ]
    },
    {
     "cell_type": "code",
     "collapsed": false,
     "input": [
      "print \"Promedio \" + str(average(Final))\n",
      "print \"Moda \" + str(mode(Final)[0][0])\n",
      "print \"STD \" + str(std(Final))"
     ],
     "language": "python",
     "metadata": {},
     "outputs": [
      {
       "output_type": "stream",
       "stream": "stdout",
       "text": [
        "Promedio 663.88\n",
        "Moda 507.0\n",
        "STD 157.162481528\n"
       ]
      }
     ],
     "prompt_number": 32
    },
    {
     "cell_type": "markdown",
     "metadata": {},
     "source": [
      "-------------------\n",
      "\n",
      "**b.** Como cambia lo anterior si cada ronda apuesta a rojo o negro? La ganancia en este caso es 1 con probabilidad 18/37 y\n",
      "la perdida 1 con probabilidad 19/37."
     ]
    },
    {
     "cell_type": "code",
     "collapsed": false,
     "input": [
      "def rondab():\n",
      "    r = randint(1,38)\n",
      "    if r >= 1 and r<=18:\n",
      "        return 1\n",
      "    else:\n",
      "        return -1\n",
      "    \n",
      "'''\n",
      "Ejecuta un juego con n_0 fondos iniciales y N rondas\n",
      "'''\n",
      "\n",
      "def juegob(n_0,N):\n",
      "    n = n_0\n",
      "    for i in range(N):\n",
      "        n += rondab()\n",
      "        if(n==0):\n",
      "            break\n",
      "    return n\n",
      "\n",
      "'''\n",
      "Ejecuta M juegos y guarda cada resultado en la entrada de un array\n",
      "'''\n",
      "def many_gamesb(M):\n",
      "    n_array = np.zeros(M)\n",
      "    for i in range(M):\n",
      "        n_array[i] = juegob(100,100)\n",
      "    return n_array"
     ],
     "language": "python",
     "metadata": {},
     "outputs": [],
     "prompt_number": 23
    },
    {
     "cell_type": "code",
     "collapsed": false,
     "input": [
      "B = many_gamesb(100000)\n",
      "B1,B2 = frequencies(B)"
     ],
     "language": "python",
     "metadata": {},
     "outputs": [],
     "prompt_number": 24
    },
    {
     "cell_type": "markdown",
     "metadata": {},
     "source": [
      "Se corren 100.000 juegos, cada uno con 100 rondas, las siguientes graficas muestra la distribucion para el dinero final."
     ]
    },
    {
     "cell_type": "code",
     "collapsed": false,
     "input": [
      "#plt.title('Distribuci\u00f3n', fontsize = '15')\n",
      "plt.xlabel('Dinero Final')\n",
      "plt.ylabel('Frecuencia')\n",
      "plt.hist(B,len(B1))\n",
      "plt.show()"
     ],
     "language": "python",
     "metadata": {},
     "outputs": [
      {
       "metadata": {},
       "output_type": "display_data",
       "png": "[encoded data removed]",
       "text": [
        "<matplotlib.figure.Figure at 0x7f65bcc28d90>"
       ]
      }
     ],
     "prompt_number": 25
    },
    {
     "cell_type": "markdown",
     "metadata": {},
     "source": [
      "A continuacion se muestra el promedio, la moda y la desviaci\u00f3n est\u00e1ndar obtenidas."
     ]
    },
    {
     "cell_type": "code",
     "collapsed": false,
     "input": [
      "print \"Promedio \" + str(average(B))\n",
      "print \"Moda \" + str(mode(B)[0][0])\n",
      "print \"STD \" + str(std(B))"
     ],
     "language": "python",
     "metadata": {},
     "outputs": [
      {
       "output_type": "stream",
       "stream": "stdout",
       "text": [
        "Promedio 97.31376\n",
        "Moda 96.0\n",
        "STD 10.035068244\n"
       ]
      }
     ],
     "prompt_number": 26
    },
    {
     "cell_type": "markdown",
     "metadata": {},
     "source": [
      "Ahora se quiere ver, para un numero fijo de jugadores, cuantas rondas deben jugar para que la mitad se quiebren"
     ]
    },
    {
     "cell_type": "code",
     "collapsed": false,
     "input": [
      "'''\n",
      "Corre rondas para n_players jugadores con initial dinero inicial hasta que la mitad se quiebre. Retorna el no. de rondas jugadas\n",
      "'''\n",
      "def run_playersb(n_players, initial):\n",
      "    \n",
      "    Players = initial*np.ones(n_players)\n",
      "    \n",
      "    n_rounds = 0\n",
      "    #print(\"round: 0\")\n",
      "    #print(Players)\n",
      "    while(not half_broken(Players)):\n",
      "        \n",
      "        for i in range(len(Players)):\n",
      "            \n",
      "            if Players[i] > 0:\n",
      "                \n",
      "                Players[i] += rondab()\n",
      "        \n",
      "        n_rounds+=1\n",
      "        #print(\"round: \"+ str(n_rounds))\n",
      "        #print(Players)\n",
      "        \n",
      "    return n_rounds"
     ],
     "language": "python",
     "metadata": {},
     "outputs": [],
     "prompt_number": 33
    },
    {
     "cell_type": "code",
     "collapsed": false,
     "input": [
      "initial = 100\n",
      "n_players = 100 #number of players)\n",
      "Players = 100*np.ones(n_players)\n",
      "n_repetitions = 200\n",
      "\n",
      "Final = np.zeros(n_repetitions)\n",
      "\n",
      "for i in range(n_repetitions):\n",
      "    \n",
      "    Final[i] = run_playersb(n_players, initial)"
     ],
     "language": "python",
     "metadata": {},
     "outputs": [],
     "prompt_number": 34
    },
    {
     "cell_type": "code",
     "collapsed": false,
     "input": [
      "F1,F2 = frequencies(Final)"
     ],
     "language": "python",
     "metadata": {},
     "outputs": [],
     "prompt_number": 35
    },
    {
     "cell_type": "markdown",
     "metadata": {},
     "source": [
      "Se corren 100 jugadores, cada uno con 100 de fondos iniciales. La siguiente grafica muestra la distribucion de los tiempos para los cuales la mitad de los jugadores se han quebrado."
     ]
    },
    {
     "cell_type": "code",
     "collapsed": false,
     "input": [
      "#plt.title('Distribuci\u00f3n', fontsize = '15')\n",
      "plt.xlabel('Tiempo (No. de rondas)')\n",
      "plt.ylabel('Frecuencia')\n",
      "plt.hist(Final,len(F1))\n",
      "plt.show()"
     ],
     "language": "python",
     "metadata": {},
     "outputs": [
      {
       "metadata": {},
       "output_type": "display_data",
       "png": "[encoded data removed]",
       "text": [
        "<matplotlib.figure.Figure at 0x7f65bcbf8210>"
       ]
      }
     ],
     "prompt_number": 42
    },
    {
     "cell_type": "code",
     "collapsed": false,
     "input": [
      "#plt.title('Distribuci\u00f3n', fontsize = '15')\n",
      "plt.xlabel('Tiempo (No. de rondas)')\n",
      "plt.ylabel('Frecuencia')\n",
      "plt.hist(Final,len(F1)/4)\n",
      "plt.show()"
     ],
     "language": "python",
     "metadata": {},
     "outputs": [
      {
       "metadata": {},
       "output_type": "display_data",
       "png": "[encoded data removed]",
       "text": [
        "<matplotlib.figure.Figure at 0x7f65bc9e7d10>"
       ]
      }
     ],
     "prompt_number": 43
    },
    {
     "cell_type": "markdown",
     "metadata": {},
     "source": [
      "A continuacion se muestra el promedio, la moda y la desviaci\u00f3n est\u00e1ndar obtenidas para el tiempo."
     ]
    },
    {
     "cell_type": "code",
     "collapsed": false,
     "input": [
      "print \"Promedio \" + str(average(Final))\n",
      "print \"Moda \" + str(mode(Final)[0][0])\n",
      "print \"STD \" + str(std(Final))"
     ],
     "language": "python",
     "metadata": {},
     "outputs": [
      {
       "output_type": "stream",
       "stream": "stdout",
       "text": [
        "Promedio 3104.67\n",
        "Moda 3040.0\n",
        "STD 217.701656172\n"
       ]
      }
     ],
     "prompt_number": 38
    },
    {
     "cell_type": "markdown",
     "metadata": {},
     "source": [
      "-----------------\n",
      "\n",
      "**c.** Si: apuesta 1, y si gana, apuesta de nuevo 1, si pierde, va doblando la apuesta hasta que gane y despu\u00e9s de ganar apuesta de nuevo 1."
     ]
    },
    {
     "cell_type": "code",
     "collapsed": false,
     "input": [
      "'''\n",
      "Retorna la ganancia o perdida del jugador en una ronda\n",
      "\n",
      "won (boolean) : si gano o perdio en la ronda anterior\n",
      "previous (int) : cuando aposto la vez anterior\n",
      "\n",
      "returns \n",
      "'''\n",
      "def rondac(prev_won, prev_earn):\n",
      "    \n",
      "    r = randint(1,38)\n",
      "    \n",
      "    won = False\n",
      "    if r>=1 and r<=18:\n",
      "        won = True\n",
      "\n",
      "    if prev_won:\n",
      "        earning = 1\n",
      "    else:\n",
      "        earning = 2*prev_earn\n",
      "        \n",
      "    return earning, won\n",
      "\n",
      "'''\n",
      "Ejecuta un juego con n_0 fondos iniciales y N rondas\n",
      "'''\n",
      "def juegoc(n_0,N):\n",
      "    n = n_0\n",
      "    prev_won = True\n",
      "    prev_earn = 0\n",
      "    #print n\n",
      "    for i in range(N):\n",
      "        earning, won = rondac(prev_won, prev_earn)\n",
      "        prev_won = won\n",
      "        prev_earn = earning\n",
      "        \n",
      "        if won:\n",
      "            n+=min(earning,n)\n",
      "        else:\n",
      "            n-=min(earning,n)\n",
      "        #print n\n",
      "        if(n<=0):\n",
      "            return 0\n",
      "    return n\n",
      "\n",
      "'''\n",
      "Ejecuta M juegos y guarda cada resultado en la entrada de un array\n",
      "'''\n",
      "def many_gamesc(M):\n",
      "    n_array = np.zeros(M)\n",
      "    for i in range(M):\n",
      "        n_array[i] = juegoc(100,100)\n",
      "    return n_array"
     ],
     "language": "python",
     "metadata": {},
     "outputs": [],
     "prompt_number": 39
    },
    {
     "cell_type": "code",
     "collapsed": false,
     "input": [
      "C = many_gamesc(100000)\n",
      "C1,C2 = frequencies(C)"
     ],
     "language": "python",
     "metadata": {},
     "outputs": [],
     "prompt_number": 40
    },
    {
     "cell_type": "markdown",
     "metadata": {},
     "source": [
      "Se corren 100.000 juegos, cada uno con 100 rondas, las siguientes graficas muestra la distribucion para el dinero final."
     ]
    },
    {
     "cell_type": "code",
     "collapsed": false,
     "input": [
      "#plt.title('Distribuci\u00f3n', fontsize = '15')\n",
      "plt.xlabel('Dinero Final')\n",
      "plt.ylabel('Frecuencia')\n",
      "plt.hist(C,len(C1))\n",
      "plt.show()"
     ],
     "language": "python",
     "metadata": {},
     "outputs": [
      {
       "metadata": {},
       "output_type": "display_data",
       "png": "[encoded data removed]",
       "text": [
        "<matplotlib.figure.Figure at 0x7f65bca13250>"
       ]
      }
     ],
     "prompt_number": 41
    },
    {
     "cell_type": "markdown",
     "metadata": {},
     "source": [
      "A continuacion se muestra el promedio, la moda y la desviaci\u00f3n est\u00e1ndar obtenidas."
     ]
    },
    {
     "cell_type": "code",
     "collapsed": false,
     "input": [
      "print \"Promedio \" + str(average(C))\n",
      "print \"Moda \" + str(mode(C)[0][0])\n",
      "print \"STD \" + str(std(C))"
     ],
     "language": "python",
     "metadata": {},
     "outputs": [
      {
       "output_type": "stream",
       "stream": "stdout",
       "text": [
        "Promedio 92.12877\n",
        "Moda 0.0"
       ]
      },
      {
       "output_type": "stream",
       "stream": "stdout",
       "text": [
        "\n",
        "STD 68.7003674538\n"
       ]
      }
     ],
     "prompt_number": 44
    },
    {
     "cell_type": "markdown",
     "metadata": {},
     "source": [
      "Ahora se quiere ver, para un numero fijo de jugadores, cuantas rondas deben jugar para que la mitad se quiebren"
     ]
    },
    {
     "cell_type": "code",
     "collapsed": false,
     "input": [
      "'''\n",
      "Corre rondas para n_players jugadores con initial dinero inicial hasta que la mitad se quiebre. Retorna el no. de rondas jugadas\n",
      "'''\n",
      "def run_playersc(n_players, initial):\n",
      "    \n",
      "    Players = initial*np.ones(n_players)\n",
      "    \n",
      "    n_rounds = 0\n",
      "    #print(\"round: 0\")\n",
      "    #print(Players)\n",
      "    prev_won = True*np.ones(n_players)\n",
      "    prev_earn = 0*np.ones(n_players)\n",
      "    while(not half_broken(Players)):\n",
      "        \n",
      "        \n",
      "        \n",
      "        for i in range(len(Players)):\n",
      "            \n",
      "            if Players[i] > 0:\n",
      "\n",
      "                earning_i, won_i = rondac(prev_won[i],prev_earn[i])\n",
      "                prev_won[i] = won_i\n",
      "                prev_earn[i] = earning_i\n",
      "                \n",
      "                if won_i:\n",
      "                    Players[i]+=min(earning_i,Players[i])\n",
      "                else:\n",
      "                    Players[i]-=min(earning_i,Players[i])\n",
      "                if(Players[i]<=0):\n",
      "                    Players[i] = 0\n",
      "        \n",
      "        n_rounds+=1\n",
      "        #print(\"round: \"+ str(n_rounds))\n",
      "        #print(Players)\n",
      "        \n",
      "    return n_rounds"
     ],
     "language": "python",
     "metadata": {},
     "outputs": [],
     "prompt_number": 45
    },
    {
     "cell_type": "code",
     "collapsed": false,
     "input": [
      "initial = 100\n",
      "n_players = 100 #(number of players)\n",
      "Players = 100*np.ones(n_players)\n",
      "n_repetitions = 200\n",
      "\n",
      "Final = np.zeros(n_repetitions)\n",
      "\n",
      "for i in range(n_repetitions):\n",
      "    \n",
      "    Final[i] = run_playersc(n_players, initial)"
     ],
     "language": "python",
     "metadata": {},
     "outputs": [],
     "prompt_number": 46
    },
    {
     "cell_type": "code",
     "collapsed": false,
     "input": [
      "F1,F2 = frequencies(Final)"
     ],
     "language": "python",
     "metadata": {},
     "outputs": [],
     "prompt_number": 47
    },
    {
     "cell_type": "markdown",
     "metadata": {},
     "source": [
      "Se corren 100 jugadores, cada uno con 100 de fondos iniciales. La siguiente grafica muestra la distribucion de los tiempos para los cuales la mitad de los jugadores se han quebrado."
     ]
    },
    {
     "cell_type": "code",
     "collapsed": false,
     "input": [
      "#plt.title('Distribuci\u00f3n', fontsize = '15')\n",
      "plt.xlabel('Tiempo (No. de rondas)')\n",
      "plt.ylabel('Frecuencia')\n",
      "plt.hist(Final,len(F1))\n",
      "plt.show()"
     ],
     "language": "python",
     "metadata": {},
     "outputs": [
      {
       "metadata": {},
       "output_type": "display_data",
       "png": "[encoded data removed]",
       "text": [
        "<matplotlib.figure.Figure at 0x7f65bcbf86d0>"
       ]
      }
     ],
     "prompt_number": 48
    },
    {
     "cell_type": "markdown",
     "metadata": {},
     "source": [
      "A continuacion se muestra el promedio, la moda y la desviaci\u00f3n est\u00e1ndar obtenidas para los tiempos."
     ]
    },
    {
     "cell_type": "code",
     "collapsed": false,
     "input": [
      "print \"Promedio \" + str(average(Final))\n",
      "print \"Moda \" + str(mode(Final)[0][0])\n",
      "print \"STD \" + str(std(Final))"
     ],
     "language": "python",
     "metadata": {},
     "outputs": [
      {
       "output_type": "stream",
       "stream": "stdout",
       "text": [
        "Promedio 193.97\n",
        "Moda 157.0\n",
        "STD 35.2150408206\n"
       ]
      }
     ],
     "prompt_number": 49
    }
   ],
   "metadata": {}
  }
 ]
}