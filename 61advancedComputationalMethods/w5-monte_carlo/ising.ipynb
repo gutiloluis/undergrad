{
 "metadata": {
  "name": ""
 },
 "nbformat": 3,
 "nbformat_minor": 0,
 "worksheets": [
  {
   "cells": [
    {
     "cell_type": "code",
     "collapsed": false,
     "input": [
      "%pylab inline"
     ],
     "language": "python",
     "metadata": {},
     "outputs": [
      {
       "output_type": "stream",
       "stream": "stdout",
       "text": [
        "Populating the interactive namespace from numpy and matplotlib\n"
       ]
      }
     ],
     "prompt_number": 12
    },
    {
     "cell_type": "code",
     "collapsed": false,
     "input": [],
     "language": "python",
     "metadata": {},
     "outputs": [
      {
       "metadata": {},
       "output_type": "pyout",
       "prompt_number": 3,
       "text": [
        "'2'"
       ]
      }
     ],
     "prompt_number": 3
    },
    {
     "cell_type": "code",
     "collapsed": false,
     "input": [
      "!./a.out 100 1.0 >> aaa.dat\n",
      "!./a.out 100 2.0 >> aaa.dat\n",
      "!./a.out 100 3.0 >> aaa.dat\n",
      "!./a.out 100 4.0 >> aaa.dat\n",
      "!./a.out 100 5.0 >> aaa.dat\n",
      "!./a.out 100 6.0 >> aaa.dat\n",
      "!./a.out 100 7.0 >> aaa.dat\n",
      "!./a.out 100 8.0 >> aaa.dat\n",
      "!./a.out 100 9.0 >> aaa.dat\n",
      "!./a.out 100 10.0 >> aaa.dat\n",
      "!./a.out 100 11.0 >> aaa.dat\n",
      "!./a.out 100 12.0 >> aaa.dat\n",
      "!./a.out 100 13.0 >> aaa.dat\n",
      "!./a.out 100 14.0 >> aaa.dat\n",
      "!./a.out 100 15.0 >> aaa.dat\n",
      "!./a.out 100 16.0 >> aaa.dat\n",
      "!./a.out 100 17.0 >> aaa.dat\n",
      "!./a.out 100 18.0 >> aaa.dat\n",
      "!./a.out 100 19.0 >> aaa.dat\n",
      "!./a.out 100 20.0 >> aaa.dat"
     ],
     "language": "python",
     "metadata": {},
     "outputs": [],
     "prompt_number": 13
    },
    {
     "cell_type": "code",
     "collapsed": false,
     "input": [],
     "language": "python",
     "metadata": {},
     "outputs": [],
     "prompt_number": 9
    },
    {
     "cell_type": "code",
     "collapsed": false,
     "input": [
      "A = np.loadtxt('aaa.dat')"
     ],
     "language": "python",
     "metadata": {},
     "outputs": [],
     "prompt_number": 14
    },
    {
     "cell_type": "code",
     "collapsed": false,
     "input": [
      "plot(A[:,0],A[:,1])"
     ],
     "language": "python",
     "metadata": {},
     "outputs": [
      {
       "metadata": {},
       "output_type": "pyout",
       "prompt_number": 15,
       "text": [
        "[<matplotlib.lines.Line2D at 0x7f35688f8fd0>]"
       ]
      },
      {
       "metadata": {},
       "output_type": "display_data",
       "png": "[encoded data removed]",
       "text": [
        "<matplotlib.figure.Figure at 0x7f35842324d0>"
       ]
      }
     ],
     "prompt_number": 15
    },
    {
     "cell_type": "code",
     "collapsed": false,
     "input": [
      "plot(A[:,0],A[:,2])"
     ],
     "language": "python",
     "metadata": {},
     "outputs": [
      {
       "metadata": {},
       "output_type": "pyout",
       "prompt_number": 16,
       "text": [
        "[<matplotlib.lines.Line2D at 0x7f3568727110>]"
       ]
      },
      {
       "metadata": {},
       "output_type": "display_data",
       "png": "[encoded data removed]",
       "text": [
        "<matplotlib.figure.Figure at 0x7f35688c5610>"
       ]
      }
     ],
     "prompt_number": 16
    },
    {
     "cell_type": "code",
     "collapsed": false,
     "input": [
      "print A[:,0]"
     ],
     "language": "python",
     "metadata": {},
     "outputs": [
      {
       "output_type": "stream",
       "stream": "stdout",
       "text": [
        "[  1.   2.   3.   4.   5.   6.   7.   8.   9.  10.  11.  12.  13.  14.  15.\n",
        "  16.  17.  18.  19.  20.]\n"
       ]
      }
     ],
     "prompt_number": 18
    },
    {
     "cell_type": "code",
     "collapsed": false,
     "input": [],
     "language": "python",
     "metadata": {},
     "outputs": []
    }
   ],
   "metadata": {}
  }
 ]
}